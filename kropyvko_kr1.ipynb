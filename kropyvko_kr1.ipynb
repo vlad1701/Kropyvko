{
 "cells": [
  {
   "cell_type": "markdown",
   "id": "2bae9968",
   "metadata": {},
   "source": [
    "### Data Preprocessing"
   ]
  },
  {
   "cell_type": "code",
   "execution_count": 96,
   "id": "f6b41fe0",
   "metadata": {},
   "outputs": [],
   "source": [
    "#!pip install numpy\n",
    "#!pip install matplotlib\n",
    "#!pip install pandas\n",
    "#!pip install openpyxl"
   ]
  },
  {
   "cell_type": "code",
   "execution_count": 97,
   "id": "d2c5b3ec",
   "metadata": {},
   "outputs": [],
   "source": [
    "#!pip list"
   ]
  },
  {
   "cell_type": "markdown",
   "id": "4f777127",
   "metadata": {},
   "source": [
    "### Importing data"
   ]
  },
  {
   "cell_type": "code",
   "execution_count": 98,
   "id": "f147515e",
   "metadata": {},
   "outputs": [],
   "source": [
    "# Importing the libraries\n",
    "import numpy as np\n",
    "import matplotlib.pyplot as plt\n",
    "import pandas as pd"
   ]
  },
  {
   "cell_type": "code",
   "execution_count": 99,
   "id": "6b5259d9",
   "metadata": {},
   "outputs": [],
   "source": [
    "df = pd.read_excel('КР-1.xlsx', sheet_name='Вар (2)')"
   ]
  },
  {
   "cell_type": "code",
   "execution_count": 100,
   "id": "46d486c8",
   "metadata": {},
   "outputs": [
    {
     "data": {
      "text/html": [
       "<div>\n",
       "<style scoped>\n",
       "    .dataframe tbody tr th:only-of-type {\n",
       "        vertical-align: middle;\n",
       "    }\n",
       "\n",
       "    .dataframe tbody tr th {\n",
       "        vertical-align: top;\n",
       "    }\n",
       "\n",
       "    .dataframe thead th {\n",
       "        text-align: right;\n",
       "    }\n",
       "</style>\n",
       "<table border=\"1\" class=\"dataframe\">\n",
       "  <thead>\n",
       "    <tr style=\"text-align: right;\">\n",
       "      <th></th>\n",
       "      <th>Торговельна площа, кв. м.</th>\n",
       "      <th>Этаж</th>\n",
       "      <th>Тип</th>\n",
       "      <th>Количество касс</th>\n",
       "      <th>Рейтинг в гуглі</th>\n",
       "      <th>Средний чек</th>\n",
       "      <th>Офіси</th>\n",
       "      <th>Середній дохід наелення,грн</th>\n",
       "      <th>Магазин мобільного звязку</th>\n",
       "      <th>Продуктовий ринок</th>\n",
       "      <th>Речовий ринок</th>\n",
       "      <th>Транзитна зупинка міжміського ГТ</th>\n",
       "      <th>Зупинка ГТ</th>\n",
       "      <th>Количество чеков</th>\n",
       "    </tr>\n",
       "  </thead>\n",
       "  <tbody>\n",
       "    <tr>\n",
       "      <th>0</th>\n",
       "      <td>9.00</td>\n",
       "      <td>1</td>\n",
       "      <td>МАФ</td>\n",
       "      <td>1</td>\n",
       "      <td>3.0</td>\n",
       "      <td>76.85</td>\n",
       "      <td>1092.0</td>\n",
       "      <td>13884.0</td>\n",
       "      <td>0</td>\n",
       "      <td>0</td>\n",
       "      <td>0</td>\n",
       "      <td>0</td>\n",
       "      <td>1</td>\n",
       "      <td>659.0</td>\n",
       "    </tr>\n",
       "    <tr>\n",
       "      <th>1</th>\n",
       "      <td>22.00</td>\n",
       "      <td>1</td>\n",
       "      <td>МАФ</td>\n",
       "      <td>1</td>\n",
       "      <td>4.1</td>\n",
       "      <td>84.86</td>\n",
       "      <td>348.0</td>\n",
       "      <td>11700.0</td>\n",
       "      <td>0</td>\n",
       "      <td>0</td>\n",
       "      <td>0</td>\n",
       "      <td>1</td>\n",
       "      <td>1</td>\n",
       "      <td>1518.0</td>\n",
       "    </tr>\n",
       "    <tr>\n",
       "      <th>2</th>\n",
       "      <td>13.00</td>\n",
       "      <td>1</td>\n",
       "      <td>МАФ</td>\n",
       "      <td>1</td>\n",
       "      <td>3.0</td>\n",
       "      <td>112.02</td>\n",
       "      <td>504.0</td>\n",
       "      <td>6786.0</td>\n",
       "      <td>0</td>\n",
       "      <td>0</td>\n",
       "      <td>0</td>\n",
       "      <td>1</td>\n",
       "      <td>1</td>\n",
       "      <td>476.0</td>\n",
       "    </tr>\n",
       "    <tr>\n",
       "      <th>3</th>\n",
       "      <td>18.00</td>\n",
       "      <td>1</td>\n",
       "      <td>МАФ</td>\n",
       "      <td>1</td>\n",
       "      <td>3.0</td>\n",
       "      <td>119.80</td>\n",
       "      <td>418.0</td>\n",
       "      <td>12948.0</td>\n",
       "      <td>0</td>\n",
       "      <td>0</td>\n",
       "      <td>0</td>\n",
       "      <td>1</td>\n",
       "      <td>1</td>\n",
       "      <td>1310.0</td>\n",
       "    </tr>\n",
       "    <tr>\n",
       "      <th>4</th>\n",
       "      <td>25.00</td>\n",
       "      <td>1</td>\n",
       "      <td>Вбудоване приміщення</td>\n",
       "      <td>1</td>\n",
       "      <td>4.0</td>\n",
       "      <td>94.88</td>\n",
       "      <td>108.0</td>\n",
       "      <td>11427.0</td>\n",
       "      <td>0</td>\n",
       "      <td>0</td>\n",
       "      <td>0</td>\n",
       "      <td>0</td>\n",
       "      <td>0</td>\n",
       "      <td>2029.0</td>\n",
       "    </tr>\n",
       "    <tr>\n",
       "      <th>...</th>\n",
       "      <td>...</td>\n",
       "      <td>...</td>\n",
       "      <td>...</td>\n",
       "      <td>...</td>\n",
       "      <td>...</td>\n",
       "      <td>...</td>\n",
       "      <td>...</td>\n",
       "      <td>...</td>\n",
       "      <td>...</td>\n",
       "      <td>...</td>\n",
       "      <td>...</td>\n",
       "      <td>...</td>\n",
       "      <td>...</td>\n",
       "      <td>...</td>\n",
       "    </tr>\n",
       "    <tr>\n",
       "      <th>64</th>\n",
       "      <td>40.78</td>\n",
       "      <td>1</td>\n",
       "      <td>МАФ</td>\n",
       "      <td>2</td>\n",
       "      <td>4.0</td>\n",
       "      <td>107.37</td>\n",
       "      <td>337.0</td>\n",
       "      <td>9399.0</td>\n",
       "      <td>0</td>\n",
       "      <td>0</td>\n",
       "      <td>0</td>\n",
       "      <td>0</td>\n",
       "      <td>0</td>\n",
       "      <td>6884.0</td>\n",
       "    </tr>\n",
       "    <tr>\n",
       "      <th>65</th>\n",
       "      <td>21.50</td>\n",
       "      <td>1</td>\n",
       "      <td>МАФ</td>\n",
       "      <td>1</td>\n",
       "      <td>2.3</td>\n",
       "      <td>89.13</td>\n",
       "      <td>668.0</td>\n",
       "      <td>14079.0</td>\n",
       "      <td>0</td>\n",
       "      <td>1</td>\n",
       "      <td>1</td>\n",
       "      <td>0</td>\n",
       "      <td>0</td>\n",
       "      <td>4721.0</td>\n",
       "    </tr>\n",
       "    <tr>\n",
       "      <th>66</th>\n",
       "      <td>115.23</td>\n",
       "      <td>1</td>\n",
       "      <td>МАФ</td>\n",
       "      <td>1</td>\n",
       "      <td>3.0</td>\n",
       "      <td>105.62</td>\n",
       "      <td>295.0</td>\n",
       "      <td>11427.0</td>\n",
       "      <td>0</td>\n",
       "      <td>0</td>\n",
       "      <td>0</td>\n",
       "      <td>0</td>\n",
       "      <td>0</td>\n",
       "      <td>3286.0</td>\n",
       "    </tr>\n",
       "    <tr>\n",
       "      <th>67</th>\n",
       "      <td>34.80</td>\n",
       "      <td>1</td>\n",
       "      <td>Вбудоване приміщення</td>\n",
       "      <td>2</td>\n",
       "      <td>4.3</td>\n",
       "      <td>168.07</td>\n",
       "      <td>0.0</td>\n",
       "      <td>13338.0</td>\n",
       "      <td>0</td>\n",
       "      <td>1</td>\n",
       "      <td>1</td>\n",
       "      <td>0</td>\n",
       "      <td>0</td>\n",
       "      <td>3963.0</td>\n",
       "    </tr>\n",
       "    <tr>\n",
       "      <th>68</th>\n",
       "      <td>22.00</td>\n",
       "      <td>1</td>\n",
       "      <td>МАФ</td>\n",
       "      <td>1</td>\n",
       "      <td>4.9</td>\n",
       "      <td>101.73</td>\n",
       "      <td>101.0</td>\n",
       "      <td>10296.0</td>\n",
       "      <td>0</td>\n",
       "      <td>0</td>\n",
       "      <td>0</td>\n",
       "      <td>0</td>\n",
       "      <td>0</td>\n",
       "      <td>4200.0</td>\n",
       "    </tr>\n",
       "  </tbody>\n",
       "</table>\n",
       "<p>69 rows × 14 columns</p>\n",
       "</div>"
      ],
      "text/plain": [
       "    Торговельна площа, кв. м.  Этаж                   Тип  Количество касс  \\\n",
       "0                        9.00     1                   МАФ                1   \n",
       "1                       22.00     1                   МАФ                1   \n",
       "2                       13.00     1                   МАФ                1   \n",
       "3                       18.00     1                   МАФ                1   \n",
       "4                       25.00     1  Вбудоване приміщення                1   \n",
       "..                        ...   ...                   ...              ...   \n",
       "64                      40.78     1                   МАФ                2   \n",
       "65                      21.50     1                   МАФ                1   \n",
       "66                     115.23     1                   МАФ                1   \n",
       "67                      34.80     1  Вбудоване приміщення                2   \n",
       "68                      22.00     1                   МАФ                1   \n",
       "\n",
       "    Рейтинг в гуглі  Средний чек   Офіси  Середній дохід наелення,грн  \\\n",
       "0               3.0        76.85  1092.0                      13884.0   \n",
       "1               4.1        84.86   348.0                      11700.0   \n",
       "2               3.0       112.02   504.0                       6786.0   \n",
       "3               3.0       119.80   418.0                      12948.0   \n",
       "4               4.0        94.88   108.0                      11427.0   \n",
       "..              ...          ...     ...                          ...   \n",
       "64              4.0       107.37   337.0                       9399.0   \n",
       "65              2.3        89.13   668.0                      14079.0   \n",
       "66              3.0       105.62   295.0                      11427.0   \n",
       "67              4.3       168.07     0.0                      13338.0   \n",
       "68              4.9       101.73   101.0                      10296.0   \n",
       "\n",
       "    Магазин мобільного звязку  Продуктовий ринок  Речовий ринок  \\\n",
       "0                           0                  0              0   \n",
       "1                           0                  0              0   \n",
       "2                           0                  0              0   \n",
       "3                           0                  0              0   \n",
       "4                           0                  0              0   \n",
       "..                        ...                ...            ...   \n",
       "64                          0                  0              0   \n",
       "65                          0                  1              1   \n",
       "66                          0                  0              0   \n",
       "67                          0                  1              1   \n",
       "68                          0                  0              0   \n",
       "\n",
       "    Транзитна зупинка міжміського ГТ  Зупинка ГТ  Количество чеков  \n",
       "0                                  0           1             659.0  \n",
       "1                                  1           1            1518.0  \n",
       "2                                  1           1             476.0  \n",
       "3                                  1           1            1310.0  \n",
       "4                                  0           0            2029.0  \n",
       "..                               ...         ...               ...  \n",
       "64                                 0           0            6884.0  \n",
       "65                                 0           0            4721.0  \n",
       "66                                 0           0            3286.0  \n",
       "67                                 0           0            3963.0  \n",
       "68                                 0           0            4200.0  \n",
       "\n",
       "[69 rows x 14 columns]"
      ]
     },
     "execution_count": 100,
     "metadata": {},
     "output_type": "execute_result"
    }
   ],
   "source": [
    "df"
   ]
  },
  {
   "cell_type": "code",
   "execution_count": 101,
   "id": "79e2281e",
   "metadata": {},
   "outputs": [
    {
     "name": "stdout",
     "output_type": "stream",
     "text": [
      "<class 'pandas.core.frame.DataFrame'>\n",
      "RangeIndex: 69 entries, 0 to 68\n",
      "Data columns (total 14 columns):\n",
      " #   Column                            Non-Null Count  Dtype  \n",
      "---  ------                            --------------  -----  \n",
      " 0   Торговельна площа, кв. м.         69 non-null     float64\n",
      " 1   Этаж                              69 non-null     int64  \n",
      " 2   Тип                               69 non-null     object \n",
      " 3   Количество касс                   69 non-null     int64  \n",
      " 4   Рейтинг в гуглі                   69 non-null     float64\n",
      " 5   Средний чек                       62 non-null     float64\n",
      " 6   Офіси                             64 non-null     float64\n",
      " 7   Середній дохід наелення,грн       64 non-null     float64\n",
      " 8   Магазин мобільного звязку         69 non-null     int64  \n",
      " 9   Продуктовий ринок                 69 non-null     int64  \n",
      " 10  Речовий ринок                     69 non-null     int64  \n",
      " 11  Транзитна зупинка міжміського ГТ  69 non-null     int64  \n",
      " 12  Зупинка ГТ                        69 non-null     int64  \n",
      " 13  Количество чеков                  69 non-null     float64\n",
      "dtypes: float64(6), int64(7), object(1)\n",
      "memory usage: 7.7+ KB\n"
     ]
    }
   ],
   "source": [
    "df.info()"
   ]
  },
  {
   "cell_type": "code",
   "execution_count": 102,
   "id": "e65707cc",
   "metadata": {},
   "outputs": [],
   "source": [
    "# Drop useless\n",
    "df = df.drop(['Этаж'], axis='columns', inplace=False)"
   ]
  },
  {
   "cell_type": "markdown",
   "id": "b7076f8b",
   "metadata": {},
   "source": [
    "### Visualization"
   ]
  },
  {
   "cell_type": "code",
   "execution_count": 103,
   "id": "41113542",
   "metadata": {},
   "outputs": [
    {
     "data": {
      "text/plain": [
       "<AxesSubplot:ylabel='Frequency'>"
      ]
     },
     "execution_count": 103,
     "metadata": {},
     "output_type": "execute_result"
    },
    {
     "data": {
      "image/png": "[encoded data removed]",
      "text/plain": [
       "<Figure size 432x288 with 1 Axes>"
      ]
     },
     "metadata": {
      "needs_background": "light"
     },
     "output_type": "display_data"
    }
   ],
   "source": [
    "# Feature distribution\n",
    "df['Торговельна площа, кв. м.'].plot(kind = 'hist')"
   ]
  },
  {
   "cell_type": "code",
   "execution_count": 104,
   "id": "173b961d",
   "metadata": {},
   "outputs": [
    {
     "data": {
      "text/plain": [
       "<AxesSubplot:ylabel='Frequency'>"
      ]
     },
     "execution_count": 104,
     "metadata": {},
     "output_type": "execute_result"
    },
    {
     "data": {
      "image/png": "[encoded data removed]",
      "text/plain": [
       "<Figure size 432x288 with 1 Axes>"
      ]
     },
     "metadata": {
      "needs_background": "light"
     },
     "output_type": "display_data"
    }
   ],
   "source": [
    "# Feature distribution\n",
    "df['Количество касс'].plot(kind = 'hist')"
   ]
  },
  {
   "cell_type": "code",
   "execution_count": 105,
   "id": "198d628f",
   "metadata": {},
   "outputs": [
    {
     "data": {
      "text/plain": [
       "<AxesSubplot:ylabel='Frequency'>"
      ]
     },
     "execution_count": 105,
     "metadata": {},
     "output_type": "execute_result"
    },
    {
     "data": {
      "image/png": "[encoded data removed]",
      "text/plain": [
       "<Figure size 432x288 with 1 Axes>"
      ]
     },
     "metadata": {
      "needs_background": "light"
     },
     "output_type": "display_data"
    }
   ],
   "source": [
    "# Feature distribution\n",
    "df['Рейтинг в гуглі'].plot(kind = 'hist')"
   ]
  },
  {
   "cell_type": "code",
   "execution_count": 106,
   "id": "c854772d",
   "metadata": {},
   "outputs": [
    {
     "data": {
      "text/plain": [
       "<AxesSubplot:ylabel='Frequency'>"
      ]
     },
     "execution_count": 106,
     "metadata": {},
     "output_type": "execute_result"
    },
    {
     "data": {
      "image/png": "[encoded data removed]",
      "text/plain": [
       "<Figure size 432x288 with 1 Axes>"
      ]
     },
     "metadata": {
      "needs_background": "light"
     },
     "output_type": "display_data"
    }
   ],
   "source": [
    "# Feature distribution\n",
    "df['Количество чеков'].plot(kind = 'hist')"
   ]
  },
  {
   "cell_type": "code",
   "execution_count": 107,
   "id": "89a4ef14",
   "metadata": {},
   "outputs": [
    {
     "data": {
      "text/plain": [
       "<AxesSubplot:ylabel='Frequency'>"
      ]
     },
     "execution_count": 107,
     "metadata": {},
     "output_type": "execute_result"
    },
    {
     "data": {
      "image/png": "[encoded data removed]",
      "text/plain": [
       "<Figure size 432x288 with 1 Axes>"
      ]
     },
     "metadata": {
      "needs_background": "light"
     },
     "output_type": "display_data"
    }
   ],
   "source": [
    "# Feature distribution\n",
    "df['Средний чек'].plot(kind = 'hist')"
   ]
  },
  {
   "cell_type": "code",
   "execution_count": 108,
   "id": "b92b30fe",
   "metadata": {},
   "outputs": [
    {
     "data": {
      "text/plain": [
       "<AxesSubplot:ylabel='Frequency'>"
      ]
     },
     "execution_count": 108,
     "metadata": {},
     "output_type": "execute_result"
    },
    {
     "data": {
      "image/png": "[encoded data removed]",
      "text/plain": [
       "<Figure size 432x288 with 1 Axes>"
      ]
     },
     "metadata": {
      "needs_background": "light"
     },
     "output_type": "display_data"
    }
   ],
   "source": [
    "# Feature distribution\n",
    "df['Офіси'].plot(kind = 'hist')"
   ]
  },
  {
   "cell_type": "code",
   "execution_count": 109,
   "id": "02358be7",
   "metadata": {},
   "outputs": [
    {
     "data": {
      "text/plain": [
       "<AxesSubplot:ylabel='Frequency'>"
      ]
     },
     "execution_count": 109,
     "metadata": {},
     "output_type": "execute_result"
    },
    {
     "data": {
      "image/png": "[encoded data removed]",
      "text/plain": [
       "<Figure size 432x288 with 1 Axes>"
      ]
     },
     "metadata": {
      "needs_background": "light"
     },
     "output_type": "display_data"
    }
   ],
   "source": [
    "# Feature distribution\n",
    "df['Середній дохід наелення,грн'].plot(kind = 'hist')"
   ]
  },
  {
   "cell_type": "code",
   "execution_count": 110,
   "id": "c7b97413",
   "metadata": {},
   "outputs": [
    {
     "data": {
      "text/plain": [
       "<AxesSubplot:ylabel='Frequency'>"
      ]
     },
     "execution_count": 110,
     "metadata": {},
     "output_type": "execute_result"
    },
    {
     "data": {
      "image/png": "[encoded data removed]",
      "text/plain": [
       "<Figure size 432x288 with 1 Axes>"
      ]
     },
     "metadata": {
      "needs_background": "light"
     },
     "output_type": "display_data"
    }
   ],
   "source": [
    "# Feature distribution\n",
    "df['Магазин мобільного звязку'].plot(kind = 'hist')"
   ]
  },
  {
   "cell_type": "code",
   "execution_count": 111,
   "id": "3e04bed5",
   "metadata": {},
   "outputs": [
    {
     "data": {
      "text/plain": [
       "<AxesSubplot:ylabel='Frequency'>"
      ]
     },
     "execution_count": 111,
     "metadata": {},
     "output_type": "execute_result"
    },
    {
     "data": {
      "image/png": "[encoded data removed]",
      "text/plain": [
       "<Figure size 432x288 with 1 Axes>"
      ]
     },
     "metadata": {
      "needs_background": "light"
     },
     "output_type": "display_data"
    }
   ],
   "source": [
    "# Feature distribution\n",
    "df['Продуктовий ринок'].plot(kind = 'hist')"
   ]
  },
  {
   "cell_type": "code",
   "execution_count": 112,
   "id": "402d01e0",
   "metadata": {},
   "outputs": [
    {
     "data": {
      "text/plain": [
       "<AxesSubplot:ylabel='Frequency'>"
      ]
     },
     "execution_count": 112,
     "metadata": {},
     "output_type": "execute_result"
    },
    {
     "data": {
      "image/png": "[encoded data removed]",
      "text/plain": [
       "<Figure size 432x288 with 1 Axes>"
      ]
     },
     "metadata": {
      "needs_background": "light"
     },
     "output_type": "display_data"
    }
   ],
   "source": [
    "# Feature distribution\n",
    "df['Речовий ринок'].plot(kind = 'hist')"
   ]
  },
  {
   "cell_type": "code",
   "execution_count": 113,
   "id": "a8f9c12f",
   "metadata": {},
   "outputs": [
    {
     "data": {
      "text/plain": [
       "<AxesSubplot:ylabel='Frequency'>"
      ]
     },
     "execution_count": 113,
     "metadata": {},
     "output_type": "execute_result"
    },
    {
     "data": {
      "image/png": "[encoded data removed]",
      "text/plain": [
       "<Figure size 432x288 with 1 Axes>"
      ]
     },
     "metadata": {
      "needs_background": "light"
     },
     "output_type": "display_data"
    }
   ],
   "source": [
    "# Feature distribution\n",
    "df['Транзитна зупинка міжміського ГТ'].plot(kind = 'hist')"
   ]
  },
  {
   "cell_type": "code",
   "execution_count": 114,
   "id": "5c0df4d7",
   "metadata": {},
   "outputs": [
    {
     "data": {
      "text/plain": [
       "<AxesSubplot:ylabel='Frequency'>"
      ]
     },
     "execution_count": 114,
     "metadata": {},
     "output_type": "execute_result"
    },
    {
     "data": {
      "image/png": "[encoded data removed]",
      "text/plain": [
       "<Figure size 432x288 with 1 Axes>"
      ]
     },
     "metadata": {
      "needs_background": "light"
     },
     "output_type": "display_data"
    }
   ],
   "source": [
    "# Feature distribution\n",
    "df['Зупинка ГТ'].plot(kind = 'hist')"
   ]
  },
  {
   "cell_type": "markdown",
   "id": "dab3f0cb",
   "metadata": {},
   "source": [
    "### Statistics"
   ]
  },
  {
   "cell_type": "code",
   "execution_count": 115,
   "id": "469de6da",
   "metadata": {},
   "outputs": [
    {
     "data": {
      "text/html": [
       "<div>\n",
       "<style scoped>\n",
       "    .dataframe tbody tr th:only-of-type {\n",
       "        vertical-align: middle;\n",
       "    }\n",
       "\n",
       "    .dataframe tbody tr th {\n",
       "        vertical-align: top;\n",
       "    }\n",
       "\n",
       "    .dataframe thead th {\n",
       "        text-align: right;\n",
       "    }\n",
       "</style>\n",
       "<table border=\"1\" class=\"dataframe\">\n",
       "  <thead>\n",
       "    <tr style=\"text-align: right;\">\n",
       "      <th></th>\n",
       "      <th>Торговельна площа, кв. м.</th>\n",
       "      <th>Количество касс</th>\n",
       "      <th>Рейтинг в гуглі</th>\n",
       "      <th>Средний чек</th>\n",
       "      <th>Офіси</th>\n",
       "      <th>Середній дохід наелення,грн</th>\n",
       "      <th>Магазин мобільного звязку</th>\n",
       "      <th>Продуктовий ринок</th>\n",
       "      <th>Речовий ринок</th>\n",
       "      <th>Транзитна зупинка міжміського ГТ</th>\n",
       "      <th>Зупинка ГТ</th>\n",
       "      <th>Количество чеков</th>\n",
       "    </tr>\n",
       "  </thead>\n",
       "  <tbody>\n",
       "    <tr>\n",
       "      <th>count</th>\n",
       "      <td>69.000000</td>\n",
       "      <td>69.000000</td>\n",
       "      <td>69.000000</td>\n",
       "      <td>62.000000</td>\n",
       "      <td>64.000000</td>\n",
       "      <td>64.000000</td>\n",
       "      <td>69.000000</td>\n",
       "      <td>69.000000</td>\n",
       "      <td>69.000000</td>\n",
       "      <td>69.000000</td>\n",
       "      <td>69.000000</td>\n",
       "      <td>69.000000</td>\n",
       "    </tr>\n",
       "    <tr>\n",
       "      <th>mean</th>\n",
       "      <td>34.872145</td>\n",
       "      <td>1.231884</td>\n",
       "      <td>3.810145</td>\n",
       "      <td>95.897581</td>\n",
       "      <td>439.875000</td>\n",
       "      <td>11306.843750</td>\n",
       "      <td>0.057971</td>\n",
       "      <td>0.173913</td>\n",
       "      <td>0.130435</td>\n",
       "      <td>0.101449</td>\n",
       "      <td>0.362319</td>\n",
       "      <td>4084.097008</td>\n",
       "    </tr>\n",
       "    <tr>\n",
       "      <th>std</th>\n",
       "      <td>21.704293</td>\n",
       "      <td>0.458416</td>\n",
       "      <td>0.695605</td>\n",
       "      <td>19.192685</td>\n",
       "      <td>459.930792</td>\n",
       "      <td>2438.706261</td>\n",
       "      <td>0.235401</td>\n",
       "      <td>0.381812</td>\n",
       "      <td>0.339248</td>\n",
       "      <td>0.304135</td>\n",
       "      <td>0.484192</td>\n",
       "      <td>2213.334346</td>\n",
       "    </tr>\n",
       "    <tr>\n",
       "      <th>min</th>\n",
       "      <td>4.000000</td>\n",
       "      <td>1.000000</td>\n",
       "      <td>1.800000</td>\n",
       "      <td>65.270000</td>\n",
       "      <td>0.000000</td>\n",
       "      <td>0.000000</td>\n",
       "      <td>0.000000</td>\n",
       "      <td>0.000000</td>\n",
       "      <td>0.000000</td>\n",
       "      <td>0.000000</td>\n",
       "      <td>0.000000</td>\n",
       "      <td>476.000000</td>\n",
       "    </tr>\n",
       "    <tr>\n",
       "      <th>25%</th>\n",
       "      <td>22.000000</td>\n",
       "      <td>1.000000</td>\n",
       "      <td>3.000000</td>\n",
       "      <td>82.420000</td>\n",
       "      <td>117.000000</td>\n",
       "      <td>10095.750000</td>\n",
       "      <td>0.000000</td>\n",
       "      <td>0.000000</td>\n",
       "      <td>0.000000</td>\n",
       "      <td>0.000000</td>\n",
       "      <td>0.000000</td>\n",
       "      <td>2344.000000</td>\n",
       "    </tr>\n",
       "    <tr>\n",
       "      <th>50%</th>\n",
       "      <td>27.500000</td>\n",
       "      <td>1.000000</td>\n",
       "      <td>4.000000</td>\n",
       "      <td>93.855000</td>\n",
       "      <td>313.500000</td>\n",
       "      <td>11680.500000</td>\n",
       "      <td>0.000000</td>\n",
       "      <td>0.000000</td>\n",
       "      <td>0.000000</td>\n",
       "      <td>0.000000</td>\n",
       "      <td>0.000000</td>\n",
       "      <td>3995.469796</td>\n",
       "    </tr>\n",
       "    <tr>\n",
       "      <th>75%</th>\n",
       "      <td>41.000000</td>\n",
       "      <td>1.000000</td>\n",
       "      <td>4.300000</td>\n",
       "      <td>102.787500</td>\n",
       "      <td>662.000000</td>\n",
       "      <td>13074.750000</td>\n",
       "      <td>0.000000</td>\n",
       "      <td>0.000000</td>\n",
       "      <td>0.000000</td>\n",
       "      <td>0.000000</td>\n",
       "      <td>1.000000</td>\n",
       "      <td>4826.000000</td>\n",
       "    </tr>\n",
       "    <tr>\n",
       "      <th>max</th>\n",
       "      <td>119.300000</td>\n",
       "      <td>3.000000</td>\n",
       "      <td>5.000000</td>\n",
       "      <td>168.070000</td>\n",
       "      <td>2185.000000</td>\n",
       "      <td>14937.000000</td>\n",
       "      <td>1.000000</td>\n",
       "      <td>1.000000</td>\n",
       "      <td>1.000000</td>\n",
       "      <td>1.000000</td>\n",
       "      <td>1.000000</td>\n",
       "      <td>9687.000000</td>\n",
       "    </tr>\n",
       "  </tbody>\n",
       "</table>\n",
       "</div>"
      ],
      "text/plain": [
       "       Торговельна площа, кв. м.  Количество касс  Рейтинг в гуглі  \\\n",
       "count                  69.000000        69.000000        69.000000   \n",
       "mean                   34.872145         1.231884         3.810145   \n",
       "std                    21.704293         0.458416         0.695605   \n",
       "min                     4.000000         1.000000         1.800000   \n",
       "25%                    22.000000         1.000000         3.000000   \n",
       "50%                    27.500000         1.000000         4.000000   \n",
       "75%                    41.000000         1.000000         4.300000   \n",
       "max                   119.300000         3.000000         5.000000   \n",
       "\n",
       "       Средний чек        Офіси  Середній дохід наелення,грн  \\\n",
       "count    62.000000    64.000000                    64.000000   \n",
       "mean     95.897581   439.875000                 11306.843750   \n",
       "std      19.192685   459.930792                  2438.706261   \n",
       "min      65.270000     0.000000                     0.000000   \n",
       "25%      82.420000   117.000000                 10095.750000   \n",
       "50%      93.855000   313.500000                 11680.500000   \n",
       "75%     102.787500   662.000000                 13074.750000   \n",
       "max     168.070000  2185.000000                 14937.000000   \n",
       "\n",
       "       Магазин мобільного звязку  Продуктовий ринок  Речовий ринок  \\\n",
       "count                  69.000000          69.000000      69.000000   \n",
       "mean                    0.057971           0.173913       0.130435   \n",
       "std                     0.235401           0.381812       0.339248   \n",
       "min                     0.000000           0.000000       0.000000   \n",
       "25%                     0.000000           0.000000       0.000000   \n",
       "50%                     0.000000           0.000000       0.000000   \n",
       "75%                     0.000000           0.000000       0.000000   \n",
       "max                     1.000000           1.000000       1.000000   \n",
       "\n",
       "       Транзитна зупинка міжміського ГТ  Зупинка ГТ  Количество чеков  \n",
       "count                         69.000000   69.000000         69.000000  \n",
       "mean                           0.101449    0.362319       4084.097008  \n",
       "std                            0.304135    0.484192       2213.334346  \n",
       "min                            0.000000    0.000000        476.000000  \n",
       "25%                            0.000000    0.000000       2344.000000  \n",
       "50%                            0.000000    0.000000       3995.469796  \n",
       "75%                            0.000000    1.000000       4826.000000  \n",
       "max                            1.000000    1.000000       9687.000000  "
      ]
     },
     "execution_count": 115,
     "metadata": {},
     "output_type": "execute_result"
    }
   ],
   "source": [
    "# Dataset Statistics\n",
    "df.describe()"
   ]
  },
  {
   "cell_type": "markdown",
   "id": "c0cb565f",
   "metadata": {},
   "source": [
    "### Missing data"
   ]
  },
  {
   "cell_type": "code",
   "execution_count": 116,
   "id": "16001fc5",
   "metadata": {},
   "outputs": [
    {
     "data": {
      "text/plain": [
       "Торговельна площа, кв. м.           0\n",
       "Тип                                 0\n",
       "Количество касс                     0\n",
       "Рейтинг в гуглі                     0\n",
       "Средний чек                         7\n",
       "Офіси                               5\n",
       "Середній дохід наелення,грн         5\n",
       "Магазин мобільного звязку           0\n",
       "Продуктовий ринок                   0\n",
       "Речовий ринок                       0\n",
       "Транзитна зупинка міжміського ГТ    0\n",
       "Зупинка ГТ                          0\n",
       "Количество чеков                    0\n",
       "dtype: int64"
      ]
     },
     "execution_count": 116,
     "metadata": {},
     "output_type": "execute_result"
    }
   ],
   "source": [
    "# Cheking Missing data\n",
    "df.isnull().sum()"
   ]
  },
  {
   "cell_type": "code",
   "execution_count": 117,
   "id": "9201ad0c",
   "metadata": {},
   "outputs": [
    {
     "data": {
      "text/plain": [
       "Торговельна площа, кв. м.           float64\n",
       "Тип                                  object\n",
       "Количество касс                       int64\n",
       "Рейтинг в гуглі                     float64\n",
       "Средний чек                         float64\n",
       "Офіси                               float64\n",
       "Середній дохід наелення,грн         float64\n",
       "Магазин мобільного звязку             int64\n",
       "Продуктовий ринок                     int64\n",
       "Речовий ринок                         int64\n",
       "Транзитна зупинка міжміського ГТ      int64\n",
       "Зупинка ГТ                            int64\n",
       "Количество чеков                    float64\n",
       "dtype: object"
      ]
     },
     "execution_count": 117,
     "metadata": {},
     "output_type": "execute_result"
    }
   ],
   "source": [
    "df.dtypes"
   ]
  },
  {
   "cell_type": "code",
   "execution_count": 118,
   "id": "1befcb9b",
   "metadata": {},
   "outputs": [],
   "source": [
    "#!pip install sklearn"
   ]
  },
  {
   "cell_type": "code",
   "execution_count": 119,
   "id": "f789aa75",
   "metadata": {},
   "outputs": [],
   "source": [
    "from sklearn.impute import SimpleImputer\n",
    "#numeric\n",
    "'''SimpleImputer - класс\n",
    "imputer_mean - экземпляр\n",
    "fit - метод класса'''\n",
    "\n",
    "imputer_mean = SimpleImputer(missing_values=np.nan, strategy='mean')\n",
    "df[['Средний чек']] = imputer_mean.fit_transform(df[['Средний чек']]).round()\n",
    "df[['Офіси']] = imputer_mean.fit_transform(df[['Офіси']]).round()\n",
    "df[['Середній дохід наелення,грн']] = imputer_mean.fit_transform(df[['Середній дохід наелення,грн']]).round()\n"
   ]
  },
  {
   "cell_type": "code",
   "execution_count": 120,
   "id": "40372251",
   "metadata": {},
   "outputs": [
    {
     "data": {
      "text/plain": [
       "Торговельна площа, кв. м.           0\n",
       "Тип                                 0\n",
       "Количество касс                     0\n",
       "Рейтинг в гуглі                     0\n",
       "Средний чек                         0\n",
       "Офіси                               0\n",
       "Середній дохід наелення,грн         0\n",
       "Магазин мобільного звязку           0\n",
       "Продуктовий ринок                   0\n",
       "Речовий ринок                       0\n",
       "Транзитна зупинка міжміського ГТ    0\n",
       "Зупинка ГТ                          0\n",
       "Количество чеков                    0\n",
       "dtype: int64"
      ]
     },
     "execution_count": 120,
     "metadata": {},
     "output_type": "execute_result"
    }
   ],
   "source": [
    "df.isnull().sum()"
   ]
  },
  {
   "cell_type": "markdown",
   "id": "401d505b",
   "metadata": {},
   "source": [
    "### Outliers"
   ]
  },
  {
   "cell_type": "code",
   "execution_count": 121,
   "id": "3ca80ca7",
   "metadata": {
    "scrolled": true
   },
   "outputs": [
    {
     "data": {
      "text/html": [
       "<div>\n",
       "<style scoped>\n",
       "    .dataframe tbody tr th:only-of-type {\n",
       "        vertical-align: middle;\n",
       "    }\n",
       "\n",
       "    .dataframe tbody tr th {\n",
       "        vertical-align: top;\n",
       "    }\n",
       "\n",
       "    .dataframe thead th {\n",
       "        text-align: right;\n",
       "    }\n",
       "</style>\n",
       "<table border=\"1\" class=\"dataframe\">\n",
       "  <thead>\n",
       "    <tr style=\"text-align: right;\">\n",
       "      <th></th>\n",
       "      <th>Торговельна площа, кв. м.</th>\n",
       "      <th>Количество касс</th>\n",
       "      <th>Рейтинг в гуглі</th>\n",
       "      <th>Средний чек</th>\n",
       "      <th>Офіси</th>\n",
       "      <th>Середній дохід наелення,грн</th>\n",
       "      <th>Магазин мобільного звязку</th>\n",
       "      <th>Продуктовий ринок</th>\n",
       "      <th>Речовий ринок</th>\n",
       "      <th>Транзитна зупинка міжміського ГТ</th>\n",
       "      <th>Зупинка ГТ</th>\n",
       "      <th>Количество чеков</th>\n",
       "    </tr>\n",
       "  </thead>\n",
       "  <tbody>\n",
       "    <tr>\n",
       "      <th>count</th>\n",
       "      <td>69.000000</td>\n",
       "      <td>69.000000</td>\n",
       "      <td>69.000000</td>\n",
       "      <td>69.000000</td>\n",
       "      <td>69.000000</td>\n",
       "      <td>69.000000</td>\n",
       "      <td>69.000000</td>\n",
       "      <td>69.000000</td>\n",
       "      <td>69.000000</td>\n",
       "      <td>69.000000</td>\n",
       "      <td>69.000000</td>\n",
       "      <td>69.000000</td>\n",
       "    </tr>\n",
       "    <tr>\n",
       "      <th>mean</th>\n",
       "      <td>34.872145</td>\n",
       "      <td>1.231884</td>\n",
       "      <td>3.810145</td>\n",
       "      <td>95.942029</td>\n",
       "      <td>439.884058</td>\n",
       "      <td>11306.855072</td>\n",
       "      <td>0.057971</td>\n",
       "      <td>0.173913</td>\n",
       "      <td>0.130435</td>\n",
       "      <td>0.101449</td>\n",
       "      <td>0.362319</td>\n",
       "      <td>4084.097008</td>\n",
       "    </tr>\n",
       "    <tr>\n",
       "      <th>std</th>\n",
       "      <td>21.704293</td>\n",
       "      <td>0.458416</td>\n",
       "      <td>0.695605</td>\n",
       "      <td>18.185227</td>\n",
       "      <td>442.698760</td>\n",
       "      <td>2347.336283</td>\n",
       "      <td>0.235401</td>\n",
       "      <td>0.381812</td>\n",
       "      <td>0.339248</td>\n",
       "      <td>0.304135</td>\n",
       "      <td>0.484192</td>\n",
       "      <td>2213.334346</td>\n",
       "    </tr>\n",
       "    <tr>\n",
       "      <th>min</th>\n",
       "      <td>4.000000</td>\n",
       "      <td>1.000000</td>\n",
       "      <td>1.800000</td>\n",
       "      <td>65.000000</td>\n",
       "      <td>0.000000</td>\n",
       "      <td>0.000000</td>\n",
       "      <td>0.000000</td>\n",
       "      <td>0.000000</td>\n",
       "      <td>0.000000</td>\n",
       "      <td>0.000000</td>\n",
       "      <td>0.000000</td>\n",
       "      <td>476.000000</td>\n",
       "    </tr>\n",
       "    <tr>\n",
       "      <th>25%</th>\n",
       "      <td>22.000000</td>\n",
       "      <td>1.000000</td>\n",
       "      <td>3.000000</td>\n",
       "      <td>85.000000</td>\n",
       "      <td>126.000000</td>\n",
       "      <td>10296.000000</td>\n",
       "      <td>0.000000</td>\n",
       "      <td>0.000000</td>\n",
       "      <td>0.000000</td>\n",
       "      <td>0.000000</td>\n",
       "      <td>0.000000</td>\n",
       "      <td>2344.000000</td>\n",
       "    </tr>\n",
       "    <tr>\n",
       "      <th>50%</th>\n",
       "      <td>27.500000</td>\n",
       "      <td>1.000000</td>\n",
       "      <td>4.000000</td>\n",
       "      <td>95.000000</td>\n",
       "      <td>348.000000</td>\n",
       "      <td>11427.000000</td>\n",
       "      <td>0.000000</td>\n",
       "      <td>0.000000</td>\n",
       "      <td>0.000000</td>\n",
       "      <td>0.000000</td>\n",
       "      <td>0.000000</td>\n",
       "      <td>3995.469796</td>\n",
       "    </tr>\n",
       "    <tr>\n",
       "      <th>75%</th>\n",
       "      <td>41.000000</td>\n",
       "      <td>1.000000</td>\n",
       "      <td>4.300000</td>\n",
       "      <td>101.000000</td>\n",
       "      <td>573.000000</td>\n",
       "      <td>12948.000000</td>\n",
       "      <td>0.000000</td>\n",
       "      <td>0.000000</td>\n",
       "      <td>0.000000</td>\n",
       "      <td>0.000000</td>\n",
       "      <td>1.000000</td>\n",
       "      <td>4826.000000</td>\n",
       "    </tr>\n",
       "    <tr>\n",
       "      <th>max</th>\n",
       "      <td>119.300000</td>\n",
       "      <td>3.000000</td>\n",
       "      <td>5.000000</td>\n",
       "      <td>168.000000</td>\n",
       "      <td>2185.000000</td>\n",
       "      <td>14937.000000</td>\n",
       "      <td>1.000000</td>\n",
       "      <td>1.000000</td>\n",
       "      <td>1.000000</td>\n",
       "      <td>1.000000</td>\n",
       "      <td>1.000000</td>\n",
       "      <td>9687.000000</td>\n",
       "    </tr>\n",
       "  </tbody>\n",
       "</table>\n",
       "</div>"
      ],
      "text/plain": [
       "       Торговельна площа, кв. м.  Количество касс  Рейтинг в гуглі  \\\n",
       "count                  69.000000        69.000000        69.000000   \n",
       "mean                   34.872145         1.231884         3.810145   \n",
       "std                    21.704293         0.458416         0.695605   \n",
       "min                     4.000000         1.000000         1.800000   \n",
       "25%                    22.000000         1.000000         3.000000   \n",
       "50%                    27.500000         1.000000         4.000000   \n",
       "75%                    41.000000         1.000000         4.300000   \n",
       "max                   119.300000         3.000000         5.000000   \n",
       "\n",
       "       Средний чек        Офіси  Середній дохід наелення,грн  \\\n",
       "count    69.000000    69.000000                    69.000000   \n",
       "mean     95.942029   439.884058                 11306.855072   \n",
       "std      18.185227   442.698760                  2347.336283   \n",
       "min      65.000000     0.000000                     0.000000   \n",
       "25%      85.000000   126.000000                 10296.000000   \n",
       "50%      95.000000   348.000000                 11427.000000   \n",
       "75%     101.000000   573.000000                 12948.000000   \n",
       "max     168.000000  2185.000000                 14937.000000   \n",
       "\n",
       "       Магазин мобільного звязку  Продуктовий ринок  Речовий ринок  \\\n",
       "count                  69.000000          69.000000      69.000000   \n",
       "mean                    0.057971           0.173913       0.130435   \n",
       "std                     0.235401           0.381812       0.339248   \n",
       "min                     0.000000           0.000000       0.000000   \n",
       "25%                     0.000000           0.000000       0.000000   \n",
       "50%                     0.000000           0.000000       0.000000   \n",
       "75%                     0.000000           0.000000       0.000000   \n",
       "max                     1.000000           1.000000       1.000000   \n",
       "\n",
       "       Транзитна зупинка міжміського ГТ  Зупинка ГТ  Количество чеков  \n",
       "count                         69.000000   69.000000         69.000000  \n",
       "mean                           0.101449    0.362319       4084.097008  \n",
       "std                            0.304135    0.484192       2213.334346  \n",
       "min                            0.000000    0.000000        476.000000  \n",
       "25%                            0.000000    0.000000       2344.000000  \n",
       "50%                            0.000000    0.000000       3995.469796  \n",
       "75%                            0.000000    1.000000       4826.000000  \n",
       "max                            1.000000    1.000000       9687.000000  "
      ]
     },
     "execution_count": 121,
     "metadata": {},
     "output_type": "execute_result"
    }
   ],
   "source": [
    "df.describe()"
   ]
  },
  {
   "cell_type": "code",
   "execution_count": 122,
   "id": "e11c0ee3",
   "metadata": {},
   "outputs": [],
   "source": [
    "# Function Outliers\n",
    "def outliers(df):\n",
    "    num_var = list(df._get_numeric_data().columns)\n",
    "    for col_names in num_var:\n",
    "        df[col_names] = df[col_names].apply(lambda y: df[col_names].mean()-3*df[col_names].std() \n",
    "                            if y < df[col_names].mean()-3*df[col_names].std() else y)\n",
    "        df[col_names] = df[col_names].apply(lambda y: df[col_names].mean()+3*df[col_names].std() \n",
    "                            if y > df[col_names].mean()+3*df[col_names].std() else y)\n",
    "    return(df)"
   ]
  },
  {
   "cell_type": "code",
   "execution_count": 123,
   "id": "04e5dfe4",
   "metadata": {},
   "outputs": [
    {
     "data": {
      "text/html": [
       "<div>\n",
       "<style scoped>\n",
       "    .dataframe tbody tr th:only-of-type {\n",
       "        vertical-align: middle;\n",
       "    }\n",
       "\n",
       "    .dataframe tbody tr th {\n",
       "        vertical-align: top;\n",
       "    }\n",
       "\n",
       "    .dataframe thead th {\n",
       "        text-align: right;\n",
       "    }\n",
       "</style>\n",
       "<table border=\"1\" class=\"dataframe\">\n",
       "  <thead>\n",
       "    <tr style=\"text-align: right;\">\n",
       "      <th></th>\n",
       "      <th>Торговельна площа, кв. м.</th>\n",
       "      <th>Количество касс</th>\n",
       "      <th>Рейтинг в гуглі</th>\n",
       "      <th>Средний чек</th>\n",
       "      <th>Офіси</th>\n",
       "      <th>Середній дохід наелення,грн</th>\n",
       "      <th>Магазин мобільного звязку</th>\n",
       "      <th>Продуктовий ринок</th>\n",
       "      <th>Речовий ринок</th>\n",
       "      <th>Транзитна зупинка міжміського ГТ</th>\n",
       "      <th>Зупинка ГТ</th>\n",
       "      <th>Количество чеков</th>\n",
       "    </tr>\n",
       "  </thead>\n",
       "  <tbody>\n",
       "    <tr>\n",
       "      <th>count</th>\n",
       "      <td>69.000000</td>\n",
       "      <td>69.000000</td>\n",
       "      <td>69.000000</td>\n",
       "      <td>69.000000</td>\n",
       "      <td>69.000000</td>\n",
       "      <td>69.000000</td>\n",
       "      <td>69.000000</td>\n",
       "      <td>69.000000</td>\n",
       "      <td>69.000000</td>\n",
       "      <td>69.000000</td>\n",
       "      <td>69.000000</td>\n",
       "      <td>69.000000</td>\n",
       "    </tr>\n",
       "    <tr>\n",
       "      <th>mean</th>\n",
       "      <td>34.371276</td>\n",
       "      <td>1.226190</td>\n",
       "      <td>3.810145</td>\n",
       "      <td>95.688373</td>\n",
       "      <td>433.840295</td>\n",
       "      <td>11368.664438</td>\n",
       "      <td>0.044300</td>\n",
       "      <td>0.173913</td>\n",
       "      <td>0.130435</td>\n",
       "      <td>0.101449</td>\n",
       "      <td>0.362319</td>\n",
       "      <td>4084.097008</td>\n",
       "    </tr>\n",
       "    <tr>\n",
       "      <th>std</th>\n",
       "      <td>19.893026</td>\n",
       "      <td>0.438122</td>\n",
       "      <td>0.695605</td>\n",
       "      <td>17.264082</td>\n",
       "      <td>420.830390</td>\n",
       "      <td>2086.935792</td>\n",
       "      <td>0.179887</td>\n",
       "      <td>0.381812</td>\n",
       "      <td>0.339248</td>\n",
       "      <td>0.304135</td>\n",
       "      <td>0.484192</td>\n",
       "      <td>2213.334346</td>\n",
       "    </tr>\n",
       "    <tr>\n",
       "      <th>min</th>\n",
       "      <td>4.000000</td>\n",
       "      <td>1.000000</td>\n",
       "      <td>1.800000</td>\n",
       "      <td>65.000000</td>\n",
       "      <td>0.000000</td>\n",
       "      <td>4264.846223</td>\n",
       "      <td>0.000000</td>\n",
       "      <td>0.000000</td>\n",
       "      <td>0.000000</td>\n",
       "      <td>0.000000</td>\n",
       "      <td>0.000000</td>\n",
       "      <td>476.000000</td>\n",
       "    </tr>\n",
       "    <tr>\n",
       "      <th>25%</th>\n",
       "      <td>22.000000</td>\n",
       "      <td>1.000000</td>\n",
       "      <td>3.000000</td>\n",
       "      <td>85.000000</td>\n",
       "      <td>126.000000</td>\n",
       "      <td>10296.000000</td>\n",
       "      <td>0.000000</td>\n",
       "      <td>0.000000</td>\n",
       "      <td>0.000000</td>\n",
       "      <td>0.000000</td>\n",
       "      <td>0.000000</td>\n",
       "      <td>2344.000000</td>\n",
       "    </tr>\n",
       "    <tr>\n",
       "      <th>50%</th>\n",
       "      <td>27.500000</td>\n",
       "      <td>1.000000</td>\n",
       "      <td>4.000000</td>\n",
       "      <td>95.000000</td>\n",
       "      <td>348.000000</td>\n",
       "      <td>11427.000000</td>\n",
       "      <td>0.000000</td>\n",
       "      <td>0.000000</td>\n",
       "      <td>0.000000</td>\n",
       "      <td>0.000000</td>\n",
       "      <td>0.000000</td>\n",
       "      <td>3995.469796</td>\n",
       "    </tr>\n",
       "    <tr>\n",
       "      <th>75%</th>\n",
       "      <td>41.000000</td>\n",
       "      <td>1.000000</td>\n",
       "      <td>4.300000</td>\n",
       "      <td>101.000000</td>\n",
       "      <td>573.000000</td>\n",
       "      <td>12948.000000</td>\n",
       "      <td>0.000000</td>\n",
       "      <td>0.000000</td>\n",
       "      <td>0.000000</td>\n",
       "      <td>0.000000</td>\n",
       "      <td>1.000000</td>\n",
       "      <td>4826.000000</td>\n",
       "    </tr>\n",
       "    <tr>\n",
       "      <th>max</th>\n",
       "      <td>99.985025</td>\n",
       "      <td>2.607131</td>\n",
       "      <td>5.000000</td>\n",
       "      <td>150.497709</td>\n",
       "      <td>1767.980338</td>\n",
       "      <td>14937.000000</td>\n",
       "      <td>0.764173</td>\n",
       "      <td>1.000000</td>\n",
       "      <td>1.000000</td>\n",
       "      <td>1.000000</td>\n",
       "      <td>1.000000</td>\n",
       "      <td>9687.000000</td>\n",
       "    </tr>\n",
       "  </tbody>\n",
       "</table>\n",
       "</div>"
      ],
      "text/plain": [
       "       Торговельна площа, кв. м.  Количество касс  Рейтинг в гуглі  \\\n",
       "count                  69.000000        69.000000        69.000000   \n",
       "mean                   34.371276         1.226190         3.810145   \n",
       "std                    19.893026         0.438122         0.695605   \n",
       "min                     4.000000         1.000000         1.800000   \n",
       "25%                    22.000000         1.000000         3.000000   \n",
       "50%                    27.500000         1.000000         4.000000   \n",
       "75%                    41.000000         1.000000         4.300000   \n",
       "max                    99.985025         2.607131         5.000000   \n",
       "\n",
       "       Средний чек        Офіси  Середній дохід наелення,грн  \\\n",
       "count    69.000000    69.000000                    69.000000   \n",
       "mean     95.688373   433.840295                 11368.664438   \n",
       "std      17.264082   420.830390                  2086.935792   \n",
       "min      65.000000     0.000000                  4264.846223   \n",
       "25%      85.000000   126.000000                 10296.000000   \n",
       "50%      95.000000   348.000000                 11427.000000   \n",
       "75%     101.000000   573.000000                 12948.000000   \n",
       "max     150.497709  1767.980338                 14937.000000   \n",
       "\n",
       "       Магазин мобільного звязку  Продуктовий ринок  Речовий ринок  \\\n",
       "count                  69.000000          69.000000      69.000000   \n",
       "mean                    0.044300           0.173913       0.130435   \n",
       "std                     0.179887           0.381812       0.339248   \n",
       "min                     0.000000           0.000000       0.000000   \n",
       "25%                     0.000000           0.000000       0.000000   \n",
       "50%                     0.000000           0.000000       0.000000   \n",
       "75%                     0.000000           0.000000       0.000000   \n",
       "max                     0.764173           1.000000       1.000000   \n",
       "\n",
       "       Транзитна зупинка міжміського ГТ  Зупинка ГТ  Количество чеков  \n",
       "count                         69.000000   69.000000         69.000000  \n",
       "mean                           0.101449    0.362319       4084.097008  \n",
       "std                            0.304135    0.484192       2213.334346  \n",
       "min                            0.000000    0.000000        476.000000  \n",
       "25%                            0.000000    0.000000       2344.000000  \n",
       "50%                            0.000000    0.000000       3995.469796  \n",
       "75%                            0.000000    1.000000       4826.000000  \n",
       "max                            1.000000    1.000000       9687.000000  "
      ]
     },
     "execution_count": 123,
     "metadata": {},
     "output_type": "execute_result"
    }
   ],
   "source": [
    "# Outliers\n",
    "df = outliers(df)\n",
    "df.describe()"
   ]
  },
  {
   "cell_type": "markdown",
   "id": "37b59eff",
   "metadata": {},
   "source": [
    "\n",
    "### Encoding"
   ]
  },
  {
   "cell_type": "code",
   "execution_count": 124,
   "id": "bf190941",
   "metadata": {},
   "outputs": [
    {
     "data": {
      "text/html": [
       "<div>\n",
       "<style scoped>\n",
       "    .dataframe tbody tr th:only-of-type {\n",
       "        vertical-align: middle;\n",
       "    }\n",
       "\n",
       "    .dataframe tbody tr th {\n",
       "        vertical-align: top;\n",
       "    }\n",
       "\n",
       "    .dataframe thead th {\n",
       "        text-align: right;\n",
       "    }\n",
       "</style>\n",
       "<table border=\"1\" class=\"dataframe\">\n",
       "  <thead>\n",
       "    <tr style=\"text-align: right;\">\n",
       "      <th></th>\n",
       "      <th>col</th>\n",
       "      <th>nunique</th>\n",
       "      <th>unique</th>\n",
       "      <th>type</th>\n",
       "    </tr>\n",
       "  </thead>\n",
       "  <tbody>\n",
       "    <tr>\n",
       "      <th>0</th>\n",
       "      <td>Тип</td>\n",
       "      <td>3</td>\n",
       "      <td>[МАФ, Вбудоване приміщення, Острівок на ринку]</td>\n",
       "      <td>object</td>\n",
       "    </tr>\n",
       "  </tbody>\n",
       "</table>\n",
       "</div>"
      ],
      "text/plain": [
       "   col  nunique                                          unique    type\n",
       "0  Тип        3  [МАФ, Вбудоване приміщення, Острівок на ринку]  object"
      ]
     },
     "execution_count": 124,
     "metadata": {},
     "output_type": "execute_result"
    }
   ],
   "source": [
    "# Cheking categorical data\n",
    "dfs = df[['Тип']]\n",
    "info = []\n",
    "for column in dfs.columns:\n",
    "        vals = {\"col\": column,\n",
    "                \"nunique\": dfs[column].nunique(),\n",
    "                \"unique\": dfs[column].unique(),\n",
    "                \"type\": dfs[column].dtype\n",
    "               }\n",
    "        info.append(vals)\n",
    "pd.DataFrame(info).sort_values(by = \"col\", ascending = False)"
   ]
  },
  {
   "cell_type": "code",
   "execution_count": 125,
   "id": "65494afc",
   "metadata": {},
   "outputs": [
    {
     "data": {
      "text/html": [
       "<div>\n",
       "<style scoped>\n",
       "    .dataframe tbody tr th:only-of-type {\n",
       "        vertical-align: middle;\n",
       "    }\n",
       "\n",
       "    .dataframe tbody tr th {\n",
       "        vertical-align: top;\n",
       "    }\n",
       "\n",
       "    .dataframe thead th {\n",
       "        text-align: right;\n",
       "    }\n",
       "</style>\n",
       "<table border=\"1\" class=\"dataframe\">\n",
       "  <thead>\n",
       "    <tr style=\"text-align: right;\">\n",
       "      <th></th>\n",
       "      <th>Торговельна площа, кв. м.</th>\n",
       "      <th>Тип</th>\n",
       "      <th>Количество касс</th>\n",
       "      <th>Рейтинг в гуглі</th>\n",
       "      <th>Средний чек</th>\n",
       "      <th>Офіси</th>\n",
       "      <th>Середній дохід наелення,грн</th>\n",
       "      <th>Магазин мобільного звязку</th>\n",
       "      <th>Продуктовий ринок</th>\n",
       "      <th>Речовий ринок</th>\n",
       "      <th>Транзитна зупинка міжміського ГТ</th>\n",
       "      <th>Зупинка ГТ</th>\n",
       "      <th>Количество чеков</th>\n",
       "    </tr>\n",
       "  </thead>\n",
       "  <tbody>\n",
       "    <tr>\n",
       "      <th>0</th>\n",
       "      <td>9.000000</td>\n",
       "      <td>0</td>\n",
       "      <td>1.0</td>\n",
       "      <td>3.0</td>\n",
       "      <td>77.000000</td>\n",
       "      <td>1092.0</td>\n",
       "      <td>13884.0</td>\n",
       "      <td>0.0</td>\n",
       "      <td>0</td>\n",
       "      <td>0</td>\n",
       "      <td>0</td>\n",
       "      <td>1</td>\n",
       "      <td>659.0</td>\n",
       "    </tr>\n",
       "    <tr>\n",
       "      <th>1</th>\n",
       "      <td>22.000000</td>\n",
       "      <td>0</td>\n",
       "      <td>1.0</td>\n",
       "      <td>4.1</td>\n",
       "      <td>85.000000</td>\n",
       "      <td>348.0</td>\n",
       "      <td>11700.0</td>\n",
       "      <td>0.0</td>\n",
       "      <td>0</td>\n",
       "      <td>0</td>\n",
       "      <td>1</td>\n",
       "      <td>1</td>\n",
       "      <td>1518.0</td>\n",
       "    </tr>\n",
       "    <tr>\n",
       "      <th>2</th>\n",
       "      <td>13.000000</td>\n",
       "      <td>0</td>\n",
       "      <td>1.0</td>\n",
       "      <td>3.0</td>\n",
       "      <td>112.000000</td>\n",
       "      <td>504.0</td>\n",
       "      <td>6786.0</td>\n",
       "      <td>0.0</td>\n",
       "      <td>0</td>\n",
       "      <td>0</td>\n",
       "      <td>1</td>\n",
       "      <td>1</td>\n",
       "      <td>476.0</td>\n",
       "    </tr>\n",
       "    <tr>\n",
       "      <th>3</th>\n",
       "      <td>18.000000</td>\n",
       "      <td>0</td>\n",
       "      <td>1.0</td>\n",
       "      <td>3.0</td>\n",
       "      <td>120.000000</td>\n",
       "      <td>418.0</td>\n",
       "      <td>12948.0</td>\n",
       "      <td>0.0</td>\n",
       "      <td>0</td>\n",
       "      <td>0</td>\n",
       "      <td>1</td>\n",
       "      <td>1</td>\n",
       "      <td>1310.0</td>\n",
       "    </tr>\n",
       "    <tr>\n",
       "      <th>4</th>\n",
       "      <td>25.000000</td>\n",
       "      <td>1</td>\n",
       "      <td>1.0</td>\n",
       "      <td>4.0</td>\n",
       "      <td>95.000000</td>\n",
       "      <td>108.0</td>\n",
       "      <td>11427.0</td>\n",
       "      <td>0.0</td>\n",
       "      <td>0</td>\n",
       "      <td>0</td>\n",
       "      <td>0</td>\n",
       "      <td>0</td>\n",
       "      <td>2029.0</td>\n",
       "    </tr>\n",
       "    <tr>\n",
       "      <th>...</th>\n",
       "      <td>...</td>\n",
       "      <td>...</td>\n",
       "      <td>...</td>\n",
       "      <td>...</td>\n",
       "      <td>...</td>\n",
       "      <td>...</td>\n",
       "      <td>...</td>\n",
       "      <td>...</td>\n",
       "      <td>...</td>\n",
       "      <td>...</td>\n",
       "      <td>...</td>\n",
       "      <td>...</td>\n",
       "      <td>...</td>\n",
       "    </tr>\n",
       "    <tr>\n",
       "      <th>64</th>\n",
       "      <td>40.780000</td>\n",
       "      <td>0</td>\n",
       "      <td>2.0</td>\n",
       "      <td>4.0</td>\n",
       "      <td>107.000000</td>\n",
       "      <td>337.0</td>\n",
       "      <td>9399.0</td>\n",
       "      <td>0.0</td>\n",
       "      <td>0</td>\n",
       "      <td>0</td>\n",
       "      <td>0</td>\n",
       "      <td>0</td>\n",
       "      <td>6884.0</td>\n",
       "    </tr>\n",
       "    <tr>\n",
       "      <th>65</th>\n",
       "      <td>21.500000</td>\n",
       "      <td>0</td>\n",
       "      <td>1.0</td>\n",
       "      <td>2.3</td>\n",
       "      <td>89.000000</td>\n",
       "      <td>668.0</td>\n",
       "      <td>14079.0</td>\n",
       "      <td>0.0</td>\n",
       "      <td>1</td>\n",
       "      <td>1</td>\n",
       "      <td>0</td>\n",
       "      <td>0</td>\n",
       "      <td>4721.0</td>\n",
       "    </tr>\n",
       "    <tr>\n",
       "      <th>66</th>\n",
       "      <td>99.985025</td>\n",
       "      <td>0</td>\n",
       "      <td>1.0</td>\n",
       "      <td>3.0</td>\n",
       "      <td>106.000000</td>\n",
       "      <td>295.0</td>\n",
       "      <td>11427.0</td>\n",
       "      <td>0.0</td>\n",
       "      <td>0</td>\n",
       "      <td>0</td>\n",
       "      <td>0</td>\n",
       "      <td>0</td>\n",
       "      <td>3286.0</td>\n",
       "    </tr>\n",
       "    <tr>\n",
       "      <th>67</th>\n",
       "      <td>34.800000</td>\n",
       "      <td>1</td>\n",
       "      <td>2.0</td>\n",
       "      <td>4.3</td>\n",
       "      <td>150.497709</td>\n",
       "      <td>0.0</td>\n",
       "      <td>13338.0</td>\n",
       "      <td>0.0</td>\n",
       "      <td>1</td>\n",
       "      <td>1</td>\n",
       "      <td>0</td>\n",
       "      <td>0</td>\n",
       "      <td>3963.0</td>\n",
       "    </tr>\n",
       "    <tr>\n",
       "      <th>68</th>\n",
       "      <td>22.000000</td>\n",
       "      <td>0</td>\n",
       "      <td>1.0</td>\n",
       "      <td>4.9</td>\n",
       "      <td>102.000000</td>\n",
       "      <td>101.0</td>\n",
       "      <td>10296.0</td>\n",
       "      <td>0.0</td>\n",
       "      <td>0</td>\n",
       "      <td>0</td>\n",
       "      <td>0</td>\n",
       "      <td>0</td>\n",
       "      <td>4200.0</td>\n",
       "    </tr>\n",
       "  </tbody>\n",
       "</table>\n",
       "<p>69 rows × 13 columns</p>\n",
       "</div>"
      ],
      "text/plain": [
       "    Торговельна площа, кв. м.  Тип  Количество касс  Рейтинг в гуглі  \\\n",
       "0                    9.000000    0              1.0              3.0   \n",
       "1                   22.000000    0              1.0              4.1   \n",
       "2                   13.000000    0              1.0              3.0   \n",
       "3                   18.000000    0              1.0              3.0   \n",
       "4                   25.000000    1              1.0              4.0   \n",
       "..                        ...  ...              ...              ...   \n",
       "64                  40.780000    0              2.0              4.0   \n",
       "65                  21.500000    0              1.0              2.3   \n",
       "66                  99.985025    0              1.0              3.0   \n",
       "67                  34.800000    1              2.0              4.3   \n",
       "68                  22.000000    0              1.0              4.9   \n",
       "\n",
       "    Средний чек   Офіси  Середній дохід наелення,грн  \\\n",
       "0     77.000000  1092.0                      13884.0   \n",
       "1     85.000000   348.0                      11700.0   \n",
       "2    112.000000   504.0                       6786.0   \n",
       "3    120.000000   418.0                      12948.0   \n",
       "4     95.000000   108.0                      11427.0   \n",
       "..          ...     ...                          ...   \n",
       "64   107.000000   337.0                       9399.0   \n",
       "65    89.000000   668.0                      14079.0   \n",
       "66   106.000000   295.0                      11427.0   \n",
       "67   150.497709     0.0                      13338.0   \n",
       "68   102.000000   101.0                      10296.0   \n",
       "\n",
       "    Магазин мобільного звязку  Продуктовий ринок  Речовий ринок  \\\n",
       "0                         0.0                  0              0   \n",
       "1                         0.0                  0              0   \n",
       "2                         0.0                  0              0   \n",
       "3                         0.0                  0              0   \n",
       "4                         0.0                  0              0   \n",
       "..                        ...                ...            ...   \n",
       "64                        0.0                  0              0   \n",
       "65                        0.0                  1              1   \n",
       "66                        0.0                  0              0   \n",
       "67                        0.0                  1              1   \n",
       "68                        0.0                  0              0   \n",
       "\n",
       "    Транзитна зупинка міжміського ГТ  Зупинка ГТ  Количество чеков  \n",
       "0                                  0           1             659.0  \n",
       "1                                  1           1            1518.0  \n",
       "2                                  1           1             476.0  \n",
       "3                                  1           1            1310.0  \n",
       "4                                  0           0            2029.0  \n",
       "..                               ...         ...               ...  \n",
       "64                                 0           0            6884.0  \n",
       "65                                 0           0            4721.0  \n",
       "66                                 0           0            3286.0  \n",
       "67                                 0           0            3963.0  \n",
       "68                                 0           0            4200.0  \n",
       "\n",
       "[69 rows x 13 columns]"
      ]
     },
     "execution_count": 125,
     "metadata": {},
     "output_type": "execute_result"
    }
   ],
   "source": [
    "# Encoding\n",
    "type = {'МАФ':0,'Вбудоване приміщення':1,'Острівок на ринку':2}\n",
    "df['Тип'] = df['Тип'].map(type)\n",
    "df"
   ]
  },
  {
   "cell_type": "markdown",
   "id": "9cfc9000",
   "metadata": {},
   "source": [
    "\n",
    "### Correlations"
   ]
  },
  {
   "cell_type": "code",
   "execution_count": 126,
   "id": "82a378ed",
   "metadata": {},
   "outputs": [
    {
     "data": {
      "image/png": "[encoded data removed]",
      "text/plain": [
       "<Figure size 864x648 with 2 Axes>"
      ]
     },
     "metadata": {
      "needs_background": "light"
     },
     "output_type": "display_data"
    }
   ],
   "source": [
    "# Cheking correlations\n",
    "import seaborn as sns\n",
    "corrmat = df.corr()\n",
    "f, ax = plt.subplots(figsize=(12, 9))\n",
    "sns.heatmap(corrmat, annot=True)\n",
    "plt.show()"
   ]
  },
  {
   "cell_type": "markdown",
   "id": "a6174822",
   "metadata": {},
   "source": [
    "### Splitting"
   ]
  },
  {
   "cell_type": "code",
   "execution_count": 127,
   "id": "9f1b0a27",
   "metadata": {},
   "outputs": [],
   "source": [
    "# Splitting the dataset into the Training set and Test set\n",
    "X = df.iloc[:, :-1]\n",
    "y = df['Количество чеков']\n",
    "from sklearn.model_selection import train_test_split\n",
    "X_train, X_test, y_train, y_test = train_test_split(X, y, test_size=0.2, random_state=10)"
   ]
  },
  {
   "cell_type": "markdown",
   "id": "b8ad0b94",
   "metadata": {},
   "source": [
    "### Simple Linear Regression"
   ]
  },
  {
   "cell_type": "code",
   "execution_count": 129,
   "id": "9e4f6efc",
   "metadata": {},
   "outputs": [
    {
     "data": {
      "text/plain": [
       "(array([3326.69556884]), 71.49258437500066)"
      ]
     },
     "execution_count": 129,
     "metadata": {},
     "output_type": "execute_result"
    }
   ],
   "source": [
    "# Fitting Simple Linear Regression to the Training set (M2)\n",
    "f1 = ['Количество касс']\n",
    "\n",
    "from sklearn.linear_model import LinearRegression\n",
    "sr = LinearRegression().fit(X_train[f1], y_train)\n",
    "\n",
    "# Getting parameters\n",
    "sr.coef_, sr.intercept_"
   ]
  },
  {
   "cell_type": "code",
   "execution_count": 130,
   "id": "ff04415f",
   "metadata": {},
   "outputs": [
    {
     "data": {
      "text/plain": [
       "0.451"
      ]
     },
     "execution_count": 130,
     "metadata": {},
     "output_type": "execute_result"
    }
   ],
   "source": [
    "# Predicting the Test set results\n",
    "y_pred = sr.predict(X_test[f1])\n",
    "\n",
    "# Coefficient of determination R^2\n",
    "sr.score(X_train[f1], y_train).round(3)"
   ]
  },
  {
   "cell_type": "code",
   "execution_count": 131,
   "id": "46091eea",
   "metadata": {},
   "outputs": [
    {
     "data": {
      "text/plain": [
       "(1656.87, 1469.27)"
      ]
     },
     "execution_count": 131,
     "metadata": {},
     "output_type": "execute_result"
    }
   ],
   "source": [
    "# Mean squared error\n",
    "from sklearn.metrics import mean_squared_error\n",
    "mean_squared_error(y_train, sr.predict(X_train[f1]), squared=False).round(2), mean_squared_error(y_test, y_pred, squared=False).round(2)"
   ]
  },
  {
   "cell_type": "code",
   "execution_count": 132,
   "id": "5e43b3ae",
   "metadata": {},
   "outputs": [
    {
     "data": {
      "image/png": "[encoded data removed]",
      "text/plain": [
       "<Figure size 432x288 with 1 Axes>"
      ]
     },
     "metadata": {
      "needs_background": "light"
     },
     "output_type": "display_data"
    }
   ],
   "source": [
    "# Visualising the Test set results\n",
    "plt.scatter(X_test['Количество касс'], y_test, color = 'red')\n",
    "plt.plot(X_test['Количество касс'], sr.predict(X_test[f1]), 'bo')\n",
    "plt.title('Количество чеков vs Количество касс (Test set)')\n",
    "plt.xlabel('Количество касс')\n",
    "plt.ylabel('Количество чеков')\n",
    "plt.show()"
   ]
  },
  {
   "cell_type": "markdown",
   "id": "f84b4b21",
   "metadata": {},
   "source": [
    "### Multiple Linear Regression"
   ]
  },
  {
   "cell_type": "code",
   "execution_count": 135,
   "id": "32085234",
   "metadata": {},
   "outputs": [],
   "source": [
    "#!pip install statsmodels"
   ]
  },
  {
   "cell_type": "code",
   "execution_count": 136,
   "id": "19964805",
   "metadata": {},
   "outputs": [
    {
     "data": {
      "text/plain": [
       "0.614"
      ]
     },
     "execution_count": 136,
     "metadata": {},
     "output_type": "execute_result"
    }
   ],
   "source": [
    "# Fitting Multiple Regression\n",
    "mr = LinearRegression().fit(X_train, y_train)\n",
    "\n",
    "# Coefficient of determination R^2\n",
    "mr.score(X_train, y_train).round(3)"
   ]
  },
  {
   "cell_type": "code",
   "execution_count": 137,
   "id": "23454e88",
   "metadata": {},
   "outputs": [
    {
     "data": {
      "image/png": "[encoded data removed]",
      "text/plain": [
       "<Figure size 432x288 with 1 Axes>"
      ]
     },
     "metadata": {
      "needs_background": "light"
     },
     "output_type": "display_data"
    }
   ],
   "source": [
    "# Visualising the Test set results\n",
    "plt.scatter(X_test['Количество касс'], y_test, color = 'red')\n",
    "plt.plot(X_test['Количество касс'], mr.predict(X_test), 'bo')\n",
    "plt.title('Количество чеков vs Количество касс (Test set)')\n",
    "plt.xlabel('Количество касс')\n",
    "plt.ylabel('Количество чеков')\n",
    "plt.show()"
   ]
  },
  {
   "cell_type": "code",
   "execution_count": 138,
   "id": "e08b6158",
   "metadata": {},
   "outputs": [
    {
     "data": {
      "text/html": [
       "<table class=\"simpletable\">\n",
       "<caption>OLS Regression Results</caption>\n",
       "<tr>\n",
       "  <th>Dep. Variable:</th>    <td>Количество чеков</td> <th>  R-squared:         </th> <td>   0.614</td>\n",
       "</tr>\n",
       "<tr>\n",
       "  <th>Model:</th>                   <td>OLS</td>       <th>  Adj. R-squared:    </th> <td>   0.504</td>\n",
       "</tr>\n",
       "<tr>\n",
       "  <th>Method:</th>             <td>Least Squares</td>  <th>  F-statistic:       </th> <td>   5.576</td>\n",
       "</tr>\n",
       "<tr>\n",
       "  <th>Date:</th>             <td>Sun, 24 Oct 2021</td> <th>  Prob (F-statistic):</th> <td>1.36e-05</td>\n",
       "</tr>\n",
       "<tr>\n",
       "  <th>Time:</th>                 <td>01:05:47</td>     <th>  Log-Likelihood:    </th> <td> -476.03</td>\n",
       "</tr>\n",
       "<tr>\n",
       "  <th>No. Observations:</th>      <td>    55</td>      <th>  AIC:               </th> <td>   978.1</td>\n",
       "</tr>\n",
       "<tr>\n",
       "  <th>Df Residuals:</th>          <td>    42</td>      <th>  BIC:               </th> <td>   1004.</td>\n",
       "</tr>\n",
       "<tr>\n",
       "  <th>Df Model:</th>              <td>    12</td>      <th>                     </th>     <td> </td>   \n",
       "</tr>\n",
       "<tr>\n",
       "  <th>Covariance Type:</th>      <td>nonrobust</td>    <th>                     </th>     <td> </td>   \n",
       "</tr>\n",
       "</table>\n",
       "<table class=\"simpletable\">\n",
       "<tr>\n",
       "                  <td></td>                    <th>coef</th>     <th>std err</th>      <th>t</th>      <th>P>|t|</th>  <th>[0.025</th>    <th>0.975]</th>  \n",
       "</tr>\n",
       "<tr>\n",
       "  <th>const</th>                            <td>-1971.0736</td> <td> 2481.144</td> <td>   -0.794</td> <td> 0.431</td> <td>-6978.225</td> <td> 3036.078</td>\n",
       "</tr>\n",
       "<tr>\n",
       "  <th>Торговельна площа, кв. м.</th>        <td>   29.0915</td> <td>   14.201</td> <td>    2.049</td> <td> 0.047</td> <td>    0.433</td> <td>   57.750</td>\n",
       "</tr>\n",
       "<tr>\n",
       "  <th>Тип</th>                              <td> -841.0031</td> <td>  511.723</td> <td>   -1.643</td> <td> 0.108</td> <td>-1873.701</td> <td>  191.695</td>\n",
       "</tr>\n",
       "<tr>\n",
       "  <th>Количество касс</th>                  <td> 1931.7582</td> <td>  669.877</td> <td>    2.884</td> <td> 0.006</td> <td>  579.892</td> <td> 3283.625</td>\n",
       "</tr>\n",
       "<tr>\n",
       "  <th>Рейтинг в гуглі</th>                  <td>  -54.6511</td> <td>  349.602</td> <td>   -0.156</td> <td> 0.877</td> <td> -760.176</td> <td>  650.874</td>\n",
       "</tr>\n",
       "<tr>\n",
       "  <th>Средний чек</th>                      <td>   40.1461</td> <td>   17.201</td> <td>    2.334</td> <td> 0.024</td> <td>    5.433</td> <td>   74.859</td>\n",
       "</tr>\n",
       "<tr>\n",
       "  <th>Офіси</th>                            <td>    0.4278</td> <td>    0.598</td> <td>    0.716</td> <td> 0.478</td> <td>   -0.779</td> <td>    1.634</td>\n",
       "</tr>\n",
       "<tr>\n",
       "  <th>Середній дохід наелення,грн</th>      <td>   -0.0619</td> <td>    0.138</td> <td>   -0.449</td> <td> 0.656</td> <td>   -0.340</td> <td>    0.216</td>\n",
       "</tr>\n",
       "<tr>\n",
       "  <th>Магазин мобільного звязку</th>        <td>  781.5436</td> <td> 1470.691</td> <td>    0.531</td> <td> 0.598</td> <td>-2186.431</td> <td> 3749.518</td>\n",
       "</tr>\n",
       "<tr>\n",
       "  <th>Продуктовий ринок</th>                <td> -515.9871</td> <td>  823.184</td> <td>   -0.627</td> <td> 0.534</td> <td>-2177.239</td> <td> 1145.265</td>\n",
       "</tr>\n",
       "<tr>\n",
       "  <th>Речовий ринок</th>                    <td>  674.7974</td> <td>  864.093</td> <td>    0.781</td> <td> 0.439</td> <td>-1069.013</td> <td> 2418.608</td>\n",
       "</tr>\n",
       "<tr>\n",
       "  <th>Транзитна зупинка міжміського ГТ</th> <td> -513.5646</td> <td>  952.057</td> <td>   -0.539</td> <td> 0.592</td> <td>-2434.893</td> <td> 1407.764</td>\n",
       "</tr>\n",
       "<tr>\n",
       "  <th>Зупинка ГТ</th>                       <td>  -65.1869</td> <td>  486.732</td> <td>   -0.134</td> <td> 0.894</td> <td>-1047.452</td> <td>  917.079</td>\n",
       "</tr>\n",
       "</table>\n",
       "<table class=\"simpletable\">\n",
       "<tr>\n",
       "  <th>Omnibus:</th>       <td> 0.040</td> <th>  Durbin-Watson:     </th> <td>   1.888</td>\n",
       "</tr>\n",
       "<tr>\n",
       "  <th>Prob(Omnibus):</th> <td> 0.980</td> <th>  Jarque-Bera (JB):  </th> <td>   0.214</td>\n",
       "</tr>\n",
       "<tr>\n",
       "  <th>Skew:</th>          <td> 0.030</td> <th>  Prob(JB):          </th> <td>   0.898</td>\n",
       "</tr>\n",
       "<tr>\n",
       "  <th>Kurtosis:</th>      <td> 2.700</td> <th>  Cond. No.          </th> <td>1.35e+05</td>\n",
       "</tr>\n",
       "</table><br/><br/>Notes:<br/>[1] Standard Errors assume that the covariance matrix of the errors is correctly specified.<br/>[2] The condition number is large, 1.35e+05. This might indicate that there are<br/>strong multicollinearity or other numerical problems."
      ],
      "text/plain": [
       "<class 'statsmodels.iolib.summary.Summary'>\n",
       "\"\"\"\n",
       "                            OLS Regression Results                            \n",
       "==============================================================================\n",
       "Dep. Variable:       Количество чеков   R-squared:                       0.614\n",
       "Model:                            OLS   Adj. R-squared:                  0.504\n",
       "Method:                 Least Squares   F-statistic:                     5.576\n",
       "Date:                Sun, 24 Oct 2021   Prob (F-statistic):           1.36e-05\n",
       "Time:                        01:05:47   Log-Likelihood:                -476.03\n",
       "No. Observations:                  55   AIC:                             978.1\n",
       "Df Residuals:                      42   BIC:                             1004.\n",
       "Df Model:                          12                                         \n",
       "Covariance Type:            nonrobust                                         \n",
       "====================================================================================================\n",
       "                                       coef    std err          t      P>|t|      [0.025      0.975]\n",
       "----------------------------------------------------------------------------------------------------\n",
       "const                            -1971.0736   2481.144     -0.794      0.431   -6978.225    3036.078\n",
       "Торговельна площа, кв. м.           29.0915     14.201      2.049      0.047       0.433      57.750\n",
       "Тип                               -841.0031    511.723     -1.643      0.108   -1873.701     191.695\n",
       "Количество касс                   1931.7582    669.877      2.884      0.006     579.892    3283.625\n",
       "Рейтинг в гуглі                    -54.6511    349.602     -0.156      0.877    -760.176     650.874\n",
       "Средний чек                         40.1461     17.201      2.334      0.024       5.433      74.859\n",
       "Офіси                                0.4278      0.598      0.716      0.478      -0.779       1.634\n",
       "Середній дохід наелення,грн         -0.0619      0.138     -0.449      0.656      -0.340       0.216\n",
       "Магазин мобільного звязку          781.5436   1470.691      0.531      0.598   -2186.431    3749.518\n",
       "Продуктовий ринок                 -515.9871    823.184     -0.627      0.534   -2177.239    1145.265\n",
       "Речовий ринок                      674.7974    864.093      0.781      0.439   -1069.013    2418.608\n",
       "Транзитна зупинка міжміського ГТ  -513.5646    952.057     -0.539      0.592   -2434.893    1407.764\n",
       "Зупинка ГТ                         -65.1869    486.732     -0.134      0.894   -1047.452     917.079\n",
       "==============================================================================\n",
       "Omnibus:                        0.040   Durbin-Watson:                   1.888\n",
       "Prob(Omnibus):                  0.980   Jarque-Bera (JB):                0.214\n",
       "Skew:                           0.030   Prob(JB):                        0.898\n",
       "Kurtosis:                       2.700   Cond. No.                     1.35e+05\n",
       "==============================================================================\n",
       "\n",
       "Notes:\n",
       "[1] Standard Errors assume that the covariance matrix of the errors is correctly specified.\n",
       "[2] The condition number is large, 1.35e+05. This might indicate that there are\n",
       "strong multicollinearity or other numerical problems.\n",
       "\"\"\""
      ]
     },
     "execution_count": 138,
     "metadata": {},
     "output_type": "execute_result"
    }
   ],
   "source": [
    "# Checking p-values\n",
    "import statsmodels.api as sm\n",
    "X1 = sm.add_constant(X_train)\n",
    "mr1 = sm.OLS(y_train, X1).fit()\n",
    "#mr1.pvalues\n",
    "mr1.summary()"
   ]
  },
  {
   "cell_type": "markdown",
   "id": "7a4309e3",
   "metadata": {},
   "source": [
    "### Polynomial Regression"
   ]
  },
  {
   "cell_type": "code",
   "execution_count": 140,
   "id": "990f7860",
   "metadata": {},
   "outputs": [
    {
     "data": {
      "text/plain": [
       "(array([-9.87460036e-02, -5.95639774e+03,  7.63290680e+03, -3.78059842e+03,\n",
       "         3.40301412e+04,  3.23002937e+03, -2.52159266e+02,  6.55670117e+01,\n",
       "        -4.36444368e+00,  2.83501161e+03,  2.82337705e+03,  1.26367472e+01,\n",
       "         1.81538697e+04,  2.74429328e+01,  5.18610755e+02, -2.89993191e+02,\n",
       "         6.12356106e+02,  2.01808881e+01, -1.16781259e-01, -1.14079316e-02,\n",
       "        -3.45988407e+03, -1.70009999e+03, -9.17625059e+02, -6.67634761e+02,\n",
       "        -2.04734774e+02,  7.63290772e+03, -4.51145649e+03, -3.23742207e+03,\n",
       "         1.90069059e+02, -6.38726650e+00, -2.68030200e+00, -5.22378020e+01,\n",
       "        -4.02455637e+02, -1.41079977e+02, -1.99494514e+01,  3.50347477e+04,\n",
       "        -1.12806656e+04,  3.84604628e+04, -1.10970312e+03, -3.79435951e+01,\n",
       "         3.78718917e+00,  3.55813133e+01, -6.22653987e+03, -6.11775475e+03,\n",
       "        -5.17014156e+01, -5.54374478e+03,  3.66070888e+03, -1.07479518e+03,\n",
       "         9.75404602e+00, -1.39654921e+00, -7.85079515e+01, -2.05695283e+03,\n",
       "        -2.14265998e+03,  8.10040126e+01, -1.38133087e+04,  1.28477640e+01,\n",
       "         5.25960523e-01, -1.09346645e-01, -6.76371447e+02, -1.23159231e+03,\n",
       "         9.35947283e+02, -8.92699044e+02,  1.20586029e+03, -6.41167144e-03,\n",
       "         1.80924526e-02,  2.42228245e+01,  5.93723357e+01, -2.25518180e+02,\n",
       "        -3.49555739e+01,  8.54177072e+00, -2.67074947e-03,  1.62913847e+01,\n",
       "         8.37496601e+00,  6.11560103e+00,  1.02104693e+01, -8.80655642e+00,\n",
       "        -3.33520012e+00,  4.78733451e+01,  4.78733451e+01, -1.52448319e+01,\n",
       "        -1.52448319e+01,  2.83501161e+03,  3.01589112e+03,  1.80301866e+01,\n",
       "        -5.66444339e+03,  2.82337706e+03,  0.00000000e+00, -5.54402372e+03,\n",
       "         1.26367368e+01, -5.39344983e+00,  1.81538697e+04]),\n",
       " -466264.9874184967)"
      ]
     },
     "execution_count": 140,
     "metadata": {},
     "output_type": "execute_result"
    }
   ],
   "source": [
    "# Fitting Polynomial Regression to the dataset\n",
    "from sklearn.preprocessing import PolynomialFeatures\n",
    "X_train_p = PolynomialFeatures().fit_transform(X_train)\n",
    "X_test_p = PolynomialFeatures().fit_transform(X_test)\n",
    "\n",
    "pr = LinearRegression().fit(X_train_p, y_train)\n",
    "\n",
    "# Getting parameters\n",
    "pr.coef_, pr.intercept_"
   ]
  },
  {
   "cell_type": "code",
   "execution_count": 141,
   "id": "766e45e6",
   "metadata": {},
   "outputs": [
    {
     "data": {
      "text/plain": [
       "1.0"
      ]
     },
     "execution_count": 141,
     "metadata": {},
     "output_type": "execute_result"
    }
   ],
   "source": [
    "# Predicting the Test set results\n",
    "y_pred = pr.predict(X_test_p)\n",
    "\n",
    "# Coefficient of determination R^2\n",
    "pr.score(X_train_p, y_train).round(3)"
   ]
  },
  {
   "cell_type": "code",
   "execution_count": 142,
   "id": "cd46c8df",
   "metadata": {},
   "outputs": [
    {
     "data": {
      "text/plain": [
       "(0.0, 42410.26)"
      ]
     },
     "execution_count": 142,
     "metadata": {},
     "output_type": "execute_result"
    }
   ],
   "source": [
    "# Mean squared error\n",
    "mean_squared_error(y_train, pr.predict(X_train_p), squared=False).round(2), mean_squared_error(y_test, y_pred, squared=False).round(2)"
   ]
  },
  {
   "cell_type": "code",
   "execution_count": 143,
   "id": "1b5bed09",
   "metadata": {},
   "outputs": [
    {
     "data": {
      "image/png": "[encoded data removed]",
      "text/plain": [
       "<Figure size 432x288 with 1 Axes>"
      ]
     },
     "metadata": {
      "needs_background": "light"
     },
     "output_type": "display_data"
    }
   ],
   "source": [
    "# Visualising the Test set results\n",
    "plt.scatter(X_test['Количество касс'], y_test, color = 'red')\n",
    "plt.plot(X_test['Количество касс'], pr.predict(X_test_p), 'bo')\n",
    "plt.title('Количество чеков vs Количество касс (Test set)')\n",
    "plt.xlabel('Количество касс')\n",
    "plt.ylabel('Количество чеков')\n",
    "plt.show()"
   ]
  },
  {
   "cell_type": "code",
   "execution_count": null,
   "id": "08a258fc",
   "metadata": {},
   "outputs": [],
   "source": [
    "# Multiple Linear Regression найкраща модель із усіх побудованих,адже її R^2 найбільший серед усіх моделей."
   ]
  }
 ],
 "metadata": {
  "kernelspec": {
   "display_name": "Python 3 (ipykernel)",
   "language": "python",
   "name": "python3"
  },
  "language_info": {
   "codemirror_mode": {
    "name": "ipython",
    "version": 3
   },
   "file_extension": ".py",
   "mimetype": "text/x-python",
   "name": "python",
   "nbconvert_exporter": "python",
   "pygments_lexer": "ipython3",
   "version": "3.8.11"
  }
 },
 "nbformat": 4,
 "nbformat_minor": 5
}
